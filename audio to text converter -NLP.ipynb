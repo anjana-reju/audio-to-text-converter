{
 "cells": [
  {
   "cell_type": "markdown",
   "metadata": {},
   "source": [
    "# AUDIO TO TEXT"
   ]
  },
  {
   "cell_type": "code",
   "execution_count": 4,
   "metadata": {},
   "outputs": [
    {
     "name": "stdout",
     "output_type": "stream",
     "text": [
      "Collecting SpeechRecognition\n",
      "  Downloading SpeechRecognition-3.8.1-py2.py3-none-any.whl (32.8 MB)\n",
      "Installing collected packages: SpeechRecognition\n",
      "Successfully installed SpeechRecognition-3.8.1\n",
      "Note: you may need to restart the kernel to use updated packages.\n"
     ]
    }
   ],
   "source": [
    "pip install SpeechRecognition"
   ]
  },
  {
   "cell_type": "code",
   "execution_count": 3,
   "metadata": {},
   "outputs": [
    {
     "name": "stdout",
     "output_type": "stream",
     "text": [
      "Collecting textblob\n",
      "  Downloading textblob-0.17.1-py2.py3-none-any.whl (636 kB)\n",
      "Requirement already satisfied, skipping upgrade: nltk>=3.1; python_version >= \"3\" in c:\\users\\lenovo\\anaconda3\\lib\\site-packages (from textblob) (3.5)\n",
      "Requirement already satisfied, skipping upgrade: joblib in c:\\users\\lenovo\\anaconda3\\lib\\site-packages (from nltk>=3.1; python_version >= \"3\"->textblob) (0.16.0)\n",
      "Requirement already satisfied, skipping upgrade: tqdm in c:\\users\\lenovo\\anaconda3\\lib\\site-packages (from nltk>=3.1; python_version >= \"3\"->textblob) (4.47.0)\n",
      "Requirement already satisfied, skipping upgrade: click in c:\\users\\lenovo\\anaconda3\\lib\\site-packages (from nltk>=3.1; python_version >= \"3\"->textblob) (7.1.2)\n",
      "Requirement already satisfied, skipping upgrade: regex in c:\\users\\lenovo\\anaconda3\\lib\\site-packages (from nltk>=3.1; python_version >= \"3\"->textblob) (2020.6.8)\n",
      "Installing collected packages: textblob\n",
      "Successfully installed textblob-0.17.1\n",
      "Note: you may need to restart the kernel to use updated packages.\n"
     ]
    }
   ],
   "source": [
    "pip install -U textblob"
   ]
  },
  {
   "cell_type": "code",
   "execution_count": 7,
   "metadata": {},
   "outputs": [],
   "source": [
    "import speech_recognition as sr\n",
    "from textblob import TextBlob"
   ]
  },
  {
   "cell_type": "code",
   "execution_count": 8,
   "metadata": {},
   "outputs": [],
   "source": [
    "r=sr.Recognizer()\n",
    "with sr.AudioFile('audio2.wav')as source:\n",
    "    audio_text=r.listen(source,timeout=2)"
   ]
  },
  {
   "cell_type": "code",
   "execution_count": 14,
   "metadata": {},
   "outputs": [
    {
     "name": "stdout",
     "output_type": "stream",
     "text": [
      "converting audio into text...\n",
      "\n",
      "Your audio text is= \n",
      " hello everybody good morning hope it's a good day stay safe stay home bye see you\n",
      "\n",
      " Native Language text= \n",
      " सभी को नमस्कार सुप्रभात आशा है कि यह एक अच्छा दिन है घर पर रहें सुरक्षित रहें अलविदा मिलते हैं\n"
     ]
    }
   ],
   "source": [
    "try:\n",
    "    text=r.recognize_google(audio_text)\n",
    "    print(\"converting audio into text...\\n\")\n",
    "    print(\"Your audio text is= \\n\",text)\n",
    "\n",
    "    blob=TextBlob(text)\n",
    "    yourlanguage=blob.translate(to=\"hi\")\n",
    "    print(\"\\n Native Language text= \\n\",yourlanguage)\n",
    "\n",
    "except:\n",
    "    print('sorry..run again....')\n",
    "    "
   ]
  },
  {
   "cell_type": "code",
   "execution_count": 19,
   "metadata": {},
   "outputs": [
    {
     "name": "stdout",
     "output_type": "stream",
     "text": [
      "converting audio into text...\n",
      "\n",
      "Your audio text is= \n",
      " coronavirus disease is an infectious disease caused by sasco to virus most people who fall sick with covid-19 will experience mild to moderate symptoms and recover without special treatment however some will become seriously ill and require medical attention the virus can spread from an infected persons mouth or nose and small liquid particles when they cup size speak Singh or breath these particles range from larger respiratory droplets to smaller aerosoles\n",
      "\n",
      " Native Language text= \n",
      " कोरोनावायरस रोग एक संक्रामक रोग है जो सास्को से वायरस के कारण होता है, अधिकांश लोग जो कोविद -19 से बीमार पड़ते हैं, वे हल्के से मध्यम लक्षणों का अनुभव करेंगे और विशेष उपचार के बिना ठीक हो जाएंगे, हालांकि कुछ गंभीर रूप से बीमार हो जाएंगे और चिकित्सा की आवश्यकता होगी, वायरस संक्रमित व्यक्ति के मुंह से फैल सकता है। या नाक और छोटे तरल कण जब वे कप के आकार के सिंह बोलते हैं या सांस लेते हैं तो ये कण बड़े श्वसन बूंदों से लेकर छोटे एरोसोल तक होते हैं\n",
      "\n",
      " French text = \n",
      " la maladie à coronavirus est une maladie infectieuse causée par le sasco au virus la plupart des personnes qui tombent malades avec covid-19 présenteront des symptômes légers à modérés et se rétabliront sans traitement spécial, mais certaines deviendront gravement malades et nécessiteront des soins médicaux le virus peut se propager à partir de la bouche d'une personne infectée ou le nez et les petites particules liquides lorsqu'elles parlent de la taille d'un bonnet Singh ou respirent, ces particules vont des plus grosses gouttelettes respiratoires aux plus petits aérosols\n"
     ]
    }
   ],
   "source": [
    "r=sr.Recognizer()\n",
    "with sr.AudioFile('corona.wav')as source:\n",
    "    audio_text=r.listen(source,timeout=10)\n",
    "    \n",
    "    try:\n",
    "        text=r.recognize_google(audio_text)\n",
    "        print(\"converting audio into text...\\n\")\n",
    "        print(\"Your audio text is= \\n\",text)\n",
    "\n",
    "        blob=TextBlob(text)\n",
    "        yourlanguage=blob.translate(to=\"hi\")\n",
    "        print(\"\\n Native Language text= \\n\",yourlanguage)\n",
    "        French=blob.translate(to=\"fr\")\n",
    "        print(\"\\n French text = \\n\",French)\n",
    "        \n",
    "\n",
    "    except:\n",
    "        print('sorry..run again....')\n",
    "    "
   ]
  },
  {
   "cell_type": "code",
   "execution_count": null,
   "metadata": {},
   "outputs": [],
   "source": []
  }
 ],
 "metadata": {
  "kernelspec": {
   "display_name": "Python 3",
   "language": "python",
   "name": "python3"
  },
  "language_info": {
   "codemirror_mode": {
    "name": "ipython",
    "version": 3
   },
   "file_extension": ".py",
   "mimetype": "text/x-python",
   "name": "python",
   "nbconvert_exporter": "python",
   "pygments_lexer": "ipython3",
   "version": "3.8.3"
  }
 },
 "nbformat": 4,
 "nbformat_minor": 4
}
